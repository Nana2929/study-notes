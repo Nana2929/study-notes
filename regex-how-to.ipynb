{
  "nbformat": 4,
  "nbformat_minor": 0,
  "metadata": {
    "colab": {
      "provenance": []
    },
    "kernelspec": {
      "name": "python3",
      "display_name": "Python 3"
    },
    "language_info": {
      "name": "python"
    }
  },
  "cells": [
    {
      "cell_type": "markdown",
      "source": [
        "# 🥨 Regex\n",
        "  - Author: Nana Yang \n",
        "  - Date (Created): 2022/06/21\n",
        "  - Tutorial Link: https://www.youtube.com/watch?v=AEE9ecgLgdQ\n",
        "  - Written Tutorial: https://www.python-engineer.com/posts/regular-expressions/\n"
      ],
      "metadata": {
        "id": "ExpmJO2x4w8g"
      }
    },
    {
      "cell_type": "code",
      "execution_count": null,
      "metadata": {
        "id": "fhEZyOGr4wL_"
      },
      "outputs": [],
      "source": [
        "import re"
      ]
    },
    {
      "cell_type": "markdown",
      "source": [
        "## Simple Exact Match\n",
        "functions for matching:\n",
        "\n",
        "* `re.match(pattern, string)`: return (if available) match starting from the beginning\n",
        "* `re.search(pattern, string)`: scan through all locations and return (if available) the first match\n",
        "* `re.findall(pattern, string)`: find all matches from all locations, return as a list\n",
        "* `re.finditer(pattern, string)`: ~= re.findall() but return all matches as an iterator\n",
        "\n",
        "\n",
        "\n"
      ],
      "metadata": {
        "id": "2hwBRKEiALk_"
      }
    },
    {
      "cell_type": "code",
      "source": [
        "string = 'abc12345abc678ABC'\n",
        "pattern = r'abc' # r means raw-string\n",
        "matches = re.finditer(pattern, string)\n",
        "for m in matches: \n",
        "  print(m)"
      ],
      "metadata": {
        "colab": {
          "base_uri": "https://localhost:8080/"
        },
        "id": "HcVG1oDD_k3j",
        "outputId": "214d9837-d8df-401f-d9e1-4cc7921fc4b4"
      },
      "execution_count": null,
      "outputs": [
        {
          "output_type": "stream",
          "name": "stdout",
          "text": [
            "<re.Match object; span=(0, 3), match='abc'>\n",
            "<re.Match object; span=(8, 11), match='abc'>\n"
          ]
        }
      ]
    },
    {
      "cell_type": "code",
      "source": [
        "## other ways that yield the same result \n",
        "pattern = re.compile(pattern)\n",
        "matches = pattern.finditer(string)\n",
        "for m in matches: \n",
        "  print(m) # the "
      ],
      "metadata": {
        "colab": {
          "base_uri": "https://localhost:8080/"
        },
        "id": "9-xZMxanARFq",
        "outputId": "baa651c0-cb46-4bac-f38b-50a2b30114b0"
      },
      "execution_count": null,
      "outputs": [
        {
          "output_type": "stream",
          "name": "stdout",
          "text": [
            "<re.Match object; span=(0, 3), match='abc'>\n",
            "<re.Match object; span=(8, 11), match='abc'>\n"
          ]
        }
      ]
    },
    {
      "cell_type": "markdown",
      "source": [
        "### How to get the text and index?"
      ],
      "metadata": {
        "id": "eU9ZwQ6vJqw5"
      }
    },
    {
      "cell_type": "code",
      "source": [
        "## getting match location/index\n",
        "string = 'abc12345abc678ABC'\n",
        "pattern = r'abc' # r means raw-string\n",
        "matches = re.finditer(pattern, string)\n",
        "for idx, m in enumerate(matches):\n",
        "  print(f'text {idx}: {m.group()}, \\n \\\n",
        "  start at: {m.start()}, \\n \\\n",
        "  end at: {m.end()}, \\n \\\n",
        "  span: {m.span()}')"
      ],
      "metadata": {
        "colab": {
          "base_uri": "https://localhost:8080/"
        },
        "id": "FMtQ_2s2Al4s",
        "outputId": "89684c0a-0189-409d-cdac-560705e6297b"
      },
      "execution_count": null,
      "outputs": [
        {
          "output_type": "stream",
          "name": "stdout",
          "text": [
            "text 0: abc, \n",
            "   start at: 0, \n",
            "   end at: 3, \n",
            "   span: (0, 3)\n",
            "text 1: abc, \n",
            "   start at: 8, \n",
            "   end at: 11, \n",
            "   span: (8, 11)\n"
          ]
        }
      ]
    },
    {
      "cell_type": "markdown",
      "source": [
        "## Meta/Special Characters\n",
        "\n",
        "Exactly **10** sets of special character(s). "
      ],
      "metadata": {
        "id": "p4_qp09xA1lE"
      }
    },
    {
      "cell_type": "markdown",
      "source": [
        "### Metas\n",
        "- `.` Any character (except newline character) \"he..o\"\n",
        "- `^` Starts with, e.g. \"^hello\"\n",
        "- `$` Ends with, e.g. \"world$\"\n",
        "- `*` Zero or more occurrences \"aix*\"\n",
        "- `+` One or more occurrences \"aix+\"\n",
        "- `{}` Exactly the specified number of occurrences, e.g. \"al{2}\"\n",
        "- `[]` A set of characters, e.g. \"[a-m]\"\n",
        "- `\\` Signals a special sequence (can also be used to escape special characters), e.g. \"\\d\"\n",
        "- `|` Either or, e.g. \"falls|stays\"\n",
        "- `()` Capture and group\n"
      ],
      "metadata": {
        "id": "cL_5nWmzNjGr"
      }
    },
    {
      "cell_type": "code",
      "source": [
        "string = 'meowhahahahahahahahahaaa'\n",
        "print('test string length:', len(string)) "
      ],
      "metadata": {
        "colab": {
          "base_uri": "https://localhost:8080/"
        },
        "id": "ZIdVc_7ZFepf",
        "outputId": "86cf8a0b-2280-4954-899c-77d90dc94bd0"
      },
      "execution_count": null,
      "outputs": [
        {
          "output_type": "stream",
          "name": "stdout",
          "text": [
            "test string length: 24\n"
          ]
        }
      ]
    },
    {
      "cell_type": "code",
      "source": [
        "# exactly the specified number; return the first loc\n",
        "pattern = r'(ha){4}' \n",
        "re.search(pattern, string)"
      ],
      "metadata": {
        "colab": {
          "base_uri": "https://localhost:8080/"
        },
        "id": "K3cq46zCEp02",
        "outputId": "58115ccd-ef4a-4b24-b254-86ef8098426c"
      },
      "execution_count": null,
      "outputs": [
        {
          "output_type": "execute_result",
          "data": {
            "text/plain": [
              "<re.Match object; span=(4, 12), match='hahahaha'>"
            ]
          },
          "metadata": {},
          "execution_count": 6
        }
      ]
    },
    {
      "cell_type": "code",
      "source": [
        "pattern = r'(ha)*' \n",
        "re.search(pattern, string)"
      ],
      "metadata": {
        "colab": {
          "base_uri": "https://localhost:8080/"
        },
        "id": "rE_9-TFdFLJt",
        "outputId": "fbf57158-8bd2-4b52-fb33-6f64cf19737e"
      },
      "execution_count": null,
      "outputs": [
        {
          "output_type": "execute_result",
          "data": {
            "text/plain": [
              "<re.Match object; span=(0, 0), match=''>"
            ]
          },
          "metadata": {},
          "execution_count": 7
        }
      ]
    },
    {
      "cell_type": "code",
      "source": [
        "pattern = r'(ha)+' # but why \n",
        "re.search(pattern, string)"
      ],
      "metadata": {
        "colab": {
          "base_uri": "https://localhost:8080/"
        },
        "id": "OUkKuRHoIGa6",
        "outputId": "e294b693-7a7a-4b1e-9129-7cb9e7ae07d5"
      },
      "execution_count": null,
      "outputs": [
        {
          "output_type": "execute_result",
          "data": {
            "text/plain": [
              "<re.Match object; span=(4, 22), match='hahahahahahahahaha'>"
            ]
          },
          "metadata": {},
          "execution_count": 8
        }
      ]
    },
    {
      "cell_type": "markdown",
      "source": [
        "### Special Sequences \n",
        "- Decimals \n",
        "  - \\d :Matches any decimal digit; this is equivalent to the class [0-9].\n",
        "  - \\D : Matches any non-digit character; this is equivalent to the class [^0-9].\n",
        "- Whitespaces \n",
        "  - \\s : Matches any whitespace character\n",
        "  - \\S : Matches any non-whitespace character\n",
        "- Words\n",
        "  - \\w : Matches any alphanumeric (word) character; this is equivalent to the class [a-zA-Z0-9_].\n",
        "  - \\W : Matches any non-alphanumeric character; this is equivalent to the class [^a-zA-Z0-9_].\n",
        "- Beginnings or Ends\n",
        "  - \\b: Returns a match where the specified characters are at the beginning or at the end of a block r\"\\bain\" r\"ain\\b\"\n",
        "  - \\B: Returns a match where the specified characters are present, but NOT at the beginning of the block (or at the end) of a word r\"\\Bain\" r\"ain\\B\"\n",
        "  - \\A: Returns a match if the specified characters are at the beginning of the string \"\\AThe\"\n",
        "  - \\Z: Returns a match if the specified characters are at the end of the string \"Spain\\Z\""
      ],
      "metadata": {
        "id": "8ckqHhfVHMxt"
      }
    },
    {
      "cell_type": "code",
      "source": [
        "string = 'hello hey heywow hohey 123_ wowwhey'\n",
        "print(len(string))"
      ],
      "metadata": {
        "colab": {
          "base_uri": "https://localhost:8080/"
        },
        "id": "dw0Jx8dHHMJX",
        "outputId": "006b9de4-585e-456f-829e-1b27e1a351d7"
      },
      "execution_count": null,
      "outputs": [
        {
          "output_type": "stream",
          "name": "stdout",
          "text": [
            "35\n"
          ]
        }
      ]
    },
    {
      "cell_type": "code",
      "source": [
        "# match at the beginning of a block\n",
        "pattern = r'\\bhey'\n",
        "matches = re.finditer(pattern, string)\n",
        "for m in matches:\n",
        "  print(m)"
      ],
      "metadata": {
        "colab": {
          "base_uri": "https://localhost:8080/"
        },
        "id": "XJwva-BgI1QF",
        "outputId": "34364a40-838b-4105-be8e-93b665a91425"
      },
      "execution_count": null,
      "outputs": [
        {
          "output_type": "stream",
          "name": "stdout",
          "text": [
            "<re.Match object; span=(6, 9), match='hey'>\n",
            "<re.Match object; span=(10, 13), match='hey'>\n"
          ]
        }
      ]
    },
    {
      "cell_type": "code",
      "source": [
        "## match at the end of a block\n",
        "pattern = r'hey\\b'\n",
        "matches = re.finditer(pattern, string)\n",
        "for m in matches:\n",
        "  print(m)\n",
        "# <re.Match object; span=(6, 9), match='hey'> \n",
        "# ->\n",
        "#  at the beginning and end of the block (itself as a block)\n",
        "#  therefore the match captures it whether the pattern is `\\bhey` or `hey\\b` "
      ],
      "metadata": {
        "colab": {
          "base_uri": "https://localhost:8080/"
        },
        "id": "aSe8pF9LJyMr",
        "outputId": "b46fb0bc-f532-4d2c-b60f-7be74bb828a8"
      },
      "execution_count": null,
      "outputs": [
        {
          "output_type": "stream",
          "name": "stdout",
          "text": [
            "<re.Match object; span=(6, 9), match='hey'>\n",
            "<re.Match object; span=(19, 22), match='hey'>\n",
            "<re.Match object; span=(32, 35), match='hey'>\n"
          ]
        }
      ]
    },
    {
      "cell_type": "code",
      "source": [
        "pattern = r'\\Bhey' # ~= pattern r'hey\\b', but EXCLUDED the match that is at the beginning of the block\n",
        "matches = re.finditer(pattern, string)\n",
        "for m in matches:\n",
        "  print(m)\n",
        "print('===============')\n",
        "pattern = r'hey\\B' # ~= pattern r'\\bhey', but EXCLUDED the match that is at the end of the block\n",
        "matches = re.finditer(pattern, string)\n",
        "for m in matches:\n",
        "  print(m)"
      ],
      "metadata": {
        "colab": {
          "base_uri": "https://localhost:8080/"
        },
        "id": "H6ByQgJBKjwL",
        "outputId": "24bfcc54-0438-4ef4-bab7-cb9077186f60"
      },
      "execution_count": null,
      "outputs": [
        {
          "output_type": "stream",
          "name": "stdout",
          "text": [
            "<re.Match object; span=(19, 22), match='hey'>\n",
            "<re.Match object; span=(32, 35), match='hey'>\n",
            "===============\n",
            "<re.Match object; span=(10, 13), match='hey'>\n"
          ]
        }
      ]
    },
    {
      "cell_type": "code",
      "source": [
        "pattern = r'\\b\\s+' # captures by block, and clean the trailing whitespaces\n",
        "re.split(pattern, string)"
      ],
      "metadata": {
        "colab": {
          "base_uri": "https://localhost:8080/"
        },
        "id": "QUIxtxTuIsRu",
        "outputId": "cd8d89d1-b152-4dce-a9fc-c45d29c4ce00"
      },
      "execution_count": null,
      "outputs": [
        {
          "output_type": "execute_result",
          "data": {
            "text/plain": [
              "['hello', 'hey', 'heywow', 'hohey', '123_', 'wowwhey']"
            ]
          },
          "metadata": {},
          "execution_count": 13
        }
      ]
    },
    {
      "cell_type": "code",
      "source": [
        "pattern = r'\\d'\n",
        "matches = re.finditer(pattern, string)\n",
        "for m in matches:\n",
        "  print(m)"
      ],
      "metadata": {
        "colab": {
          "base_uri": "https://localhost:8080/"
        },
        "id": "7nwWOEBfLz4Q",
        "outputId": "b2ca9186-c7b1-4ee4-9db0-2ab71bf57e5e"
      },
      "execution_count": null,
      "outputs": [
        {
          "output_type": "stream",
          "name": "stdout",
          "text": [
            "<re.Match object; span=(23, 24), match='1'>\n",
            "<re.Match object; span=(24, 25), match='2'>\n",
            "<re.Match object; span=(25, 26), match='3'>\n"
          ]
        }
      ]
    },
    {
      "cell_type": "markdown",
      "source": [
        "## Sets `[]`"
      ],
      "metadata": {
        "id": "Ig1qbQuuLlay"
      }
    },
    {
      "cell_type": "code",
      "source": [
        "## other ways to capture the digits\n",
        "# -> define a set and captures the elements in the set\n",
        "\n",
        "string = 'hello hey HELLO heywow hohey 123_ wowwhey'\n",
        "pattern = r'[0-9]'\n",
        "matches = re.finditer(pattern, string)\n",
        "for m in matches:\n",
        "  print(m)"
      ],
      "metadata": {
        "colab": {
          "base_uri": "https://localhost:8080/"
        },
        "id": "5inJnJuZLni4",
        "outputId": "4d5cbcb1-0c1b-4d04-a7a6-09e6674cd546"
      },
      "execution_count": null,
      "outputs": [
        {
          "output_type": "stream",
          "name": "stdout",
          "text": [
            "<re.Match object; span=(29, 30), match='1'>\n",
            "<re.Match object; span=(30, 31), match='2'>\n",
            "<re.Match object; span=(31, 32), match='3'>\n"
          ]
        }
      ]
    },
    {
      "cell_type": "code",
      "source": [
        "# alpha sets (case-sensitive) [a-z], [A-Z]\n",
        "pattern = r'[A-Z]'\n",
        "matches = re.finditer(pattern, string)\n",
        "for m in matches:\n",
        "  print(m)"
      ],
      "metadata": {
        "colab": {
          "base_uri": "https://localhost:8080/"
        },
        "id": "kWTdMEa9Lnwf",
        "outputId": "f367ee3f-2a3e-4592-f859-07005960fc76"
      },
      "execution_count": null,
      "outputs": [
        {
          "output_type": "stream",
          "name": "stdout",
          "text": [
            "<re.Match object; span=(10, 11), match='H'>\n",
            "<re.Match object; span=(11, 12), match='E'>\n",
            "<re.Match object; span=(12, 13), match='L'>\n",
            "<re.Match object; span=(13, 14), match='L'>\n",
            "<re.Match object; span=(14, 15), match='O'>\n"
          ]
        }
      ]
    },
    {
      "cell_type": "code",
      "source": [
        "pattern = r'[A-L]' # Upper Case alpha set containing only A, B, C, D, ..., J, K, L (not M, N, O, ...Z)\n",
        "matches = re.finditer(pattern, string)\n",
        "for m in matches:\n",
        "  print(m)\n",
        "# no 'O' captured"
      ],
      "metadata": {
        "colab": {
          "base_uri": "https://localhost:8080/"
        },
        "id": "D9i4BumBNDpQ",
        "outputId": "eef88f8c-7e66-4dbd-95a6-550eb575fa88"
      },
      "execution_count": null,
      "outputs": [
        {
          "output_type": "stream",
          "name": "stdout",
          "text": [
            "<re.Match object; span=(10, 11), match='H'>\n",
            "<re.Match object; span=(11, 12), match='E'>\n",
            "<re.Match object; span=(12, 13), match='L'>\n",
            "<re.Match object; span=(13, 14), match='L'>\n"
          ]
        }
      ]
    },
    {
      "cell_type": "markdown",
      "source": [
        "### Parsing dates"
      ],
      "metadata": {
        "id": "yXL3mEceNbg9"
      }
    },
    {
      "cell_type": "code",
      "source": [
        "dates = '''\n",
        "01.04.2020\n",
        "\n",
        "01 04 2020\n",
        "\n",
        "2020.04.01\n",
        "\n",
        "2020-04-01\n",
        "2020-05-23\n",
        "2020-06-11\n",
        "2020-07-11\n",
        "2020-08-11\n",
        "2020-08-18\n",
        "\n",
        "2020/04/02\n",
        "\n",
        "2020_04_04\n",
        "2020_04_04\n",
        "'''"
      ],
      "metadata": {
        "id": "NChS9koqNmoA"
      },
      "execution_count": null,
      "outputs": []
    },
    {
      "cell_type": "code",
      "source": [
        "print('All dates with a character in between')\n",
        "print('following {year} {month} {date} or {year} {date} {month}')\n",
        "\n",
        "pattern = r'\\d\\d\\d\\d.\\d\\d.\\d\\d'\n",
        "matches = re.finditer(pattern, dates)\n",
        "for m in matches:\n",
        "  print(m)"
      ],
      "metadata": {
        "colab": {
          "base_uri": "https://localhost:8080/"
        },
        "id": "0LWkxUm_NprF",
        "outputId": "717a5d71-bfaa-4758-c7be-2e248adec448"
      },
      "execution_count": null,
      "outputs": [
        {
          "output_type": "stream",
          "name": "stdout",
          "text": [
            "All dates with a character in between\n",
            "following {year} {month} {date} or {year} {date} {month}\n",
            "<re.Match object; span=(25, 35), match='2020.04.01'>\n",
            "<re.Match object; span=(37, 47), match='2020-04-01'>\n",
            "<re.Match object; span=(48, 58), match='2020-05-23'>\n",
            "<re.Match object; span=(59, 69), match='2020-06-11'>\n",
            "<re.Match object; span=(70, 80), match='2020-07-11'>\n",
            "<re.Match object; span=(81, 91), match='2020-08-11'>\n",
            "<re.Match object; span=(92, 102), match='2020-08-18'>\n",
            "<re.Match object; span=(104, 114), match='2020/04/02'>\n",
            "<re.Match object; span=(116, 126), match='2020_04_04'>\n",
            "<re.Match object; span=(127, 137), match='2020_04_04'>\n"
          ]
        }
      ]
    },
    {
      "cell_type": "code",
      "source": [
        "print('All dates with `-` in between')\n",
        "print('following {year}-{month}-{date} or {year}-{date}-{month}')\n",
        "pattern = r'\\d\\d\\d\\d-\\d\\d-\\d\\d'\n",
        "matches = re.finditer(pattern, dates)\n",
        "for m in matches:\n",
        "  print(m)"
      ],
      "metadata": {
        "colab": {
          "base_uri": "https://localhost:8080/"
        },
        "id": "6iWB8kZ1OaBf",
        "outputId": "6132ab6a-ae26-4db7-9c87-19c9ed9dcddf"
      },
      "execution_count": null,
      "outputs": [
        {
          "output_type": "stream",
          "name": "stdout",
          "text": [
            "All dates with `-` in between\n",
            "following {year}-{month}-{date} or {year}-{date}-{month}\n",
            "<re.Match object; span=(37, 47), match='2020-04-01'>\n",
            "<re.Match object; span=(48, 58), match='2020-05-23'>\n",
            "<re.Match object; span=(59, 69), match='2020-06-11'>\n",
            "<re.Match object; span=(70, 80), match='2020-07-11'>\n",
            "<re.Match object; span=(81, 91), match='2020-08-11'>\n",
            "<re.Match object; span=(92, 102), match='2020-08-18'>\n"
          ]
        }
      ]
    },
    {
      "cell_type": "code",
      "source": [
        "from datetime import datetime"
      ],
      "metadata": {
        "id": "2Z4yeTLPPEUz"
      },
      "execution_count": null,
      "outputs": []
    },
    {
      "cell_type": "code",
      "source": [
        "print('All dates with `.` in between')\n",
        "## Use \\. insted of . to escape the special character ###\n",
        "print('following {year}.{month}.{date} or {year}.{date}.{month}')\n",
        "pattern = r'\\d\\d\\d\\d\\.\\d\\d\\.\\d\\d' \n",
        "matches = re.finditer(pattern, dates)\n",
        "for m in matches:\n",
        "  print(m)\n",
        "  text = m.group()\n",
        "  datetime_object = datetime.strptime(text, '%Y.%m.%d')\n",
        "  print(datetime_object)"
      ],
      "metadata": {
        "colab": {
          "base_uri": "https://localhost:8080/"
        },
        "id": "GQJE8jfDOjgq",
        "outputId": "eebe1b71-274c-4f06-d6f4-322e5974fe45"
      },
      "execution_count": null,
      "outputs": [
        {
          "output_type": "stream",
          "name": "stdout",
          "text": [
            "All dates with `.` in between\n",
            "following {year}.{month}.{date} or {year}.{date}.{month}\n",
            "<re.Match object; span=(25, 35), match='2020.04.01'>\n",
            "2020-04-01 00:00:00\n"
          ]
        }
      ]
    },
    {
      "cell_type": "markdown",
      "source": [
        "## Quantifiers `{}`\n",
        "```\n",
        "* : 0 or more\n",
        "+ : 1 or more\n",
        "? : 0 or 1, used when a character can be optional\n",
        "{4} : exact number\n",
        "{4,6} : range numbers (min, max)\n",
        "\n",
        "```"
      ],
      "metadata": {
        "id": "8JFpGusWM8ON"
      }
    },
    {
      "cell_type": "code",
      "source": [
        "# a dash in a character set specifies a range if it is in between, otherwise the dash itself\n",
        "print('Dates with - or . in between')\n",
        "pattern = '\\d{4}[-.]\\d{2}[-.]\\d{2}'\n",
        "matches = re.finditer(pattern, dates)\n",
        "for match in matches:\n",
        "    print(match)\n",
        "print('========')\n",
        "print('within those dates, I want the dates to be within 10 - 25')\n",
        "print('Dates with - or . in between')\n",
        "# (1[0-9]|2[0-5]) -> match either 10 ~ 19 or 20 ~ 25, capture as a group \n",
        "pattern = '\\d{4}[-.]\\d{2}[-.](1[0-9]|2[0-5])'\n",
        "matches = re.finditer(pattern, dates)\n",
        "for match in matches:\n",
        "    print(match)"
      ],
      "metadata": {
        "colab": {
          "base_uri": "https://localhost:8080/"
        },
        "id": "4whEamc8O5bY",
        "outputId": "feeb5270-512c-4a92-e1fc-614b8913e298"
      },
      "execution_count": null,
      "outputs": [
        {
          "output_type": "stream",
          "name": "stdout",
          "text": [
            "Dates with - or . in between\n",
            "<re.Match object; span=(25, 35), match='2020.04.01'>\n",
            "<re.Match object; span=(37, 47), match='2020-04-01'>\n",
            "<re.Match object; span=(48, 58), match='2020-05-23'>\n",
            "<re.Match object; span=(59, 69), match='2020-06-11'>\n",
            "<re.Match object; span=(70, 80), match='2020-07-11'>\n",
            "<re.Match object; span=(81, 91), match='2020-08-11'>\n",
            "<re.Match object; span=(92, 102), match='2020-08-18'>\n",
            "========\n",
            "within those dates, I want the dates to be within 10 - 25\n",
            "Dates with - or . in between\n",
            "<re.Match object; span=(48, 58), match='2020-05-23'>\n",
            "<re.Match object; span=(59, 69), match='2020-06-11'>\n",
            "<re.Match object; span=(70, 80), match='2020-07-11'>\n",
            "<re.Match object; span=(81, 91), match='2020-08-11'>\n",
            "<re.Match object; span=(92, 102), match='2020-08-18'>\n"
          ]
        }
      ]
    },
    {
      "cell_type": "code",
      "source": [
        "string = 'pro--------gram--fi---les'\n",
        "pattern = r'-{1,2}'\n",
        "re.sub(pattern, '*', string)\n",
        "# the first 8 - are are matched by 2 and are replaced with 4 *\n",
        "# the second 2 - are replaced by 1 *\n",
        "# the third 3 - are replaced by 1 * repr. 2 - and 1 * repr. by 1 - "
      ],
      "metadata": {
        "colab": {
          "base_uri": "https://localhost:8080/",
          "height": 35
        },
        "id": "O7nBooSLNmMs",
        "outputId": "b93a38fa-9996-40e4-bca2-2fa53a338aea"
      },
      "execution_count": null,
      "outputs": [
        {
          "output_type": "execute_result",
          "data": {
            "text/plain": [
              "'pro****gram*fi**les'"
            ],
            "application/vnd.google.colaboratory.intrinsic+json": {
              "type": "string"
            }
          },
          "metadata": {},
          "execution_count": 28
        }
      ]
    },
    {
      "cell_type": "markdown",
      "source": [
        "## Conditions \n",
        "Use an `email` example to illustrate. \n"
      ],
      "metadata": {
        "id": "HhgcbxeLyOO_"
      }
    },
    {
      "cell_type": "code",
      "source": [
        "names = \"\"\"\n",
        "Mr \n",
        "Mr Simpson\n",
        "Mrs Simpson\n",
        "Mr. Brown\n",
        "Ms Smith\n",
        "Mr.. Simpson\n",
        "Mr. T\n",
        "\"\"\""
      ],
      "metadata": {
        "id": "S_o7M8toM7Qn"
      },
      "execution_count": null,
      "outputs": []
    },
    {
      "cell_type": "code",
      "source": [
        "# pattern = r'Mr\\s\\w+'  # \\s match 1 whitespace, \\w+ matches 1 or more word\n",
        "pattern = r'Mr\\s\\w*'  # \\s match 1 whitespace, \\w* matches 0 or more word\n",
        "matches = re.finditer(pattern, names)\n",
        "for m in matches:\n",
        "  print(m)"
      ],
      "metadata": {
        "colab": {
          "base_uri": "https://localhost:8080/"
        },
        "id": "q2WrpSb2y0lF",
        "outputId": "e8bd29cc-c1d6-49dc-c589-96f3201e0747"
      },
      "execution_count": null,
      "outputs": [
        {
          "output_type": "stream",
          "name": "stdout",
          "text": [
            "<re.Match object; span=(1, 4), match='Mr '>\n",
            "<re.Match object; span=(5, 15), match='Mr Simpson'>\n"
          ]
        }
      ]
    },
    {
      "cell_type": "code",
      "source": [
        "pattern = r'Mr\\.?\\s\\w+' \n",
        "# match actural `Mr.` (since dot is special char it is escaped)\n",
        "# ? means that `\\.` (actual dot) can appear 0 or 1 time\n",
        "# then match a space and 1 or more word\n",
        "matches = re.finditer(pattern, names)\n",
        "for m in matches:\n",
        "  print(m)"
      ],
      "metadata": {
        "colab": {
          "base_uri": "https://localhost:8080/"
        },
        "id": "3UjF32U9zSrM",
        "outputId": "0904fea0-b264-4a7d-c3fd-3d2851a569c9"
      },
      "execution_count": null,
      "outputs": [
        {
          "output_type": "stream",
          "name": "stdout",
          "text": [
            "<re.Match object; span=(5, 15), match='Mr Simpson'>\n",
            "<re.Match object; span=(28, 37), match='Mr. Brown'>\n",
            "<re.Match object; span=(59, 64), match='Mr. T'>\n"
          ]
        }
      ]
    },
    {
      "cell_type": "code",
      "source": [
        "pattern = r'Mr\\.*\\s\\w+' \n",
        "# same as the previous but\n",
        "# * means that `\\.` (actual dot) can appear 0 or more times \n",
        "# the resulted strings have 1 match that has 0 dot,\n",
        "# 2 matches with 1 dot and 1 match with 2 dots. \n",
        "matches = re.finditer(pattern, names)\n",
        "for m in matches:\n",
        "  print(m)"
      ],
      "metadata": {
        "colab": {
          "base_uri": "https://localhost:8080/"
        },
        "id": "A0ZMiy5az_Xa",
        "outputId": "bc4e1946-727a-44dc-a07d-0acfd7519218"
      },
      "execution_count": null,
      "outputs": [
        {
          "output_type": "stream",
          "name": "stdout",
          "text": [
            "<re.Match object; span=(5, 15), match='Mr Simpson'>\n",
            "<re.Match object; span=(28, 37), match='Mr. Brown'>\n",
            "<re.Match object; span=(47, 59), match='Mr.. Simpson'>\n",
            "<re.Match object; span=(60, 65), match='Mr. T'>\n"
          ]
        }
      ]
    },
    {
      "cell_type": "markdown",
      "source": [
        "Define a proper name-formatting as starting with \n",
        "  - Mr. Mrs. Ms. \n",
        "  or\n",
        "  - Mr Mrs Ms \n",
        "  followed by exactly a whitespace, and then the surname (all english letters). "
      ],
      "metadata": {
        "id": "IbOIiZQL0pNB"
      }
    },
    {
      "cell_type": "code",
      "source": [
        "# the pattern the finds all proper names: \n",
        "pattern = r'(Mr|Mrs|Ms)\\.?\\s\\w+' \n",
        "matches = re.finditer(pattern, names)\n",
        "for m in matches:\n",
        "  print(m)"
      ],
      "metadata": {
        "colab": {
          "base_uri": "https://localhost:8080/"
        },
        "id": "otS4jRFuzuC3",
        "outputId": "2696a6b2-179b-46f4-94f3-697983dc1270"
      },
      "execution_count": null,
      "outputs": [
        {
          "output_type": "stream",
          "name": "stdout",
          "text": [
            "<re.Match object; span=(5, 15), match='Mr Simpson'>\n",
            "<re.Match object; span=(16, 27), match='Mrs Simpson'>\n",
            "<re.Match object; span=(28, 37), match='Mr. Brown'>\n",
            "<re.Match object; span=(38, 46), match='Ms Smith'>\n",
            "<re.Match object; span=(60, 65), match='Mr. T'>\n"
          ]
        }
      ]
    },
    {
      "cell_type": "code",
      "source": [
        "emails = \"\"\"\n",
        "pythonengineer@gmail.com\n",
        "Python-engineer@gmx.de\n",
        "python-engineer123@my-domain.org\n",
        "b06102020@ntu.edu.tw\n",
        "\"\"\""
      ],
      "metadata": {
        "id": "PamAdJez2Kst"
      },
      "execution_count": null,
      "outputs": []
    },
    {
      "cell_type": "code",
      "source": [
        "prefix = r'[a-zA-Z0-9]+@'\n",
        "matches = re.finditer(prefix, emails)\n",
        "for m in matches:\n",
        "  print(m)"
      ],
      "metadata": {
        "colab": {
          "base_uri": "https://localhost:8080/"
        },
        "id": "Jt3HBBXxH225",
        "outputId": "e689ff6b-9654-438c-e50a-ce8eb2539bd2"
      },
      "execution_count": null,
      "outputs": [
        {
          "output_type": "stream",
          "name": "stdout",
          "text": [
            "<re.Match object; span=(1, 16), match='pythonengineer@'>\n",
            "<re.Match object; span=(33, 42), match='engineer@'>\n",
            "<re.Match object; span=(56, 68), match='engineer123@'>\n",
            "<re.Match object; span=(82, 92), match='b06102020@'>\n"
          ]
        }
      ]
    },
    {
      "cell_type": "code",
      "source": [
        "# get prefix and the domain name of the email \n",
        "# domain is in between @ and the first . (actual dot)\n",
        "# domain element set: [a-zA-Z-]+ ( + means 1 or more )\n",
        "prefix_domain = r'[a-zA-Z0-9]+@[a-zA-Z-]+\\.'\n",
        "matches = re.finditer(prefix_domain, emails)\n",
        "for m in matches:\n",
        "  print(m)"
      ],
      "metadata": {
        "colab": {
          "base_uri": "https://localhost:8080/"
        },
        "id": "fEEGPKQ3IahJ",
        "outputId": "5e071144-4b3f-48da-d906-1333f4dc2c23"
      },
      "execution_count": null,
      "outputs": [
        {
          "output_type": "stream",
          "name": "stdout",
          "text": [
            "<re.Match object; span=(1, 22), match='pythonengineer@gmail.'>\n",
            "<re.Match object; span=(33, 46), match='engineer@gmx.'>\n",
            "<re.Match object; span=(56, 78), match='engineer123@my-domain.'>\n",
            "<re.Match object; span=(82, 96), match='b06102020@ntu.'>\n"
          ]
        }
      ]
    },
    {
      "cell_type": "markdown",
      "source": [
        "## Grouping `()`\n",
        "`()` captures a group, so we can get the substring in the match directly. "
      ],
      "metadata": {
        "id": "QUgPJxXvLWm4"
      }
    },
    {
      "cell_type": "code",
      "source": [
        "pieces = \"\"\"\n",
        "Elisa uses 2 email formats. The most common Elisa email format is first '.' last \n",
        "(ex. jane.doe@elisa.com) \n",
        "being used 100.0% of the time. \n",
        "Other common formats are first last (ex. janedoe@elisa.com).\n",
        "\"\"\""
      ],
      "metadata": {
        "id": "n5aGn59AKW0p"
      },
      "execution_count": null,
      "outputs": []
    },
    {
      "cell_type": "code",
      "source": [
        "### the full email checking pattern \n",
        "# before @, [a-zA-Z0-9]+ is used to match the prefix of the email\n",
        "# ([a-zA-Z-]+\\.?) is used to match things like `ntu.`, `edu.`, `tw` \n",
        "# and it can repeat 1 or multiple times (+)\n",
        "email_check = r'[a-zA-Z0-9.]+@([a-zA-Z-]+\\.?)+'\n",
        "matches = re.finditer(email_check, emails)\n",
        "for m in matches:\n",
        "  print(m)"
      ],
      "metadata": {
        "colab": {
          "base_uri": "https://localhost:8080/"
        },
        "id": "RARIPCF5I7hT",
        "outputId": "83b42d75-bb7c-47da-d63f-f802b7d807fb"
      },
      "execution_count": null,
      "outputs": [
        {
          "output_type": "stream",
          "name": "stdout",
          "text": [
            "<re.Match object; span=(1, 25), match='pythonengineer@gmail.com'>\n",
            "<re.Match object; span=(33, 48), match='engineer@gmx.de'>\n",
            "<re.Match object; span=(56, 81), match='engineer123@my-domain.org'>\n",
            "<re.Match object; span=(82, 102), match='b06102020@ntu.edu.tw'>\n"
          ]
        }
      ]
    },
    {
      "cell_type": "code",
      "source": [
        "email_check = r'([a-zA-Z0-9.]+)@([a-zA-Z-]+\\.?)+'\n",
        "# first group: full match \n",
        "# 2nd group: ([a-zA-Z0-9.])  \n",
        "# 3rd group: ([a-zA-Z-]+\\.?)\n",
        "#(g1)@(g2)"
      ],
      "metadata": {
        "id": "gk2DihgaLw0x"
      },
      "execution_count": null,
      "outputs": []
    },
    {
      "cell_type": "code",
      "source": [
        "matches = re.finditer(email_check, pieces)\n",
        "for m in matches:\n",
        "  print(m.group())\n",
        "  print(m.groups()) \n",
        "  print('=======')"
      ],
      "metadata": {
        "colab": {
          "base_uri": "https://localhost:8080/"
        },
        "id": "His0pQFiKoU9",
        "outputId": "d02ef881-937a-43f5-a816-6644b53d76dc"
      },
      "execution_count": null,
      "outputs": [
        {
          "output_type": "stream",
          "name": "stdout",
          "text": [
            "jane.doe@elisa.com\n",
            "('jane.doe', 'com')\n",
            "=======\n",
            "janedoe@elisa.com\n",
            "('janedoe', 'com')\n",
            "=======\n"
          ]
        }
      ]
    },
    {
      "cell_type": "markdown",
      "source": [
        "## Modification\n",
        "Use a `url` example to illustrate."
      ],
      "metadata": {
        "id": "EM4FtncRMzqx"
      }
    },
    {
      "cell_type": "code",
      "source": [
        "urls = \"\"\"\n",
        "My colab is \n",
        "https://colab.research.google.com/drive/1ajhs_-6SuSLW0KzNz-J60WJUN9flGucc?authuser=3#scrollTo=-hkYC-j7M1f7\n",
        "and the youtube tutorial link is\n",
        "https://www.youtube.com/watch?v=AEE9ecgLgdQ\n",
        "My recent favorite song is  \n",
        "https://www.youtube.com/watch?v=Tt9hwaM4d4A\n",
        "\"\"\""
      ],
      "metadata": {
        "id": "-hkYC-j7M1f7"
      },
      "execution_count": null,
      "outputs": []
    },
    {
      "cell_type": "markdown",
      "source": [
        "Captures URL links \n",
        "\n",
        "`pattern = r'https?://(www\\.)?([0-9a-zA-Z-._#?=/]+)'`\n",
        "- `()` is a capturing group\n",
        "- first capturing group: `(www\\.)?` captures `www` for 0 or 1 time (`?` makes the group optional)\n",
        "- `([0-9a-zA-Z-._#?=/]+)` is the second capturing group where:\n",
        "  - `[0-9a-zA-Z-._#?=/]` is a set of elements possible in a URL\n",
        "  - `[]+` means the element inside the set can appear 1 or more times\n",
        "  - `([]+)` makes the whole part a capturing group"
      ],
      "metadata": {
        "id": "n_NQvgAyQqAv"
      }
    },
    {
      "cell_type": "code",
      "source": [
        "pattern = r'https?://(www\\.)?([0-9a-zA-Z-._#?=/]+)' \n",
        "matches = re.finditer(pattern, urls)\n",
        "for m in matches:\n",
        "  print(m.group())\n",
        "  print(m.groups()) \n",
        "  print('=======')"
      ],
      "metadata": {
        "colab": {
          "base_uri": "https://localhost:8080/"
        },
        "id": "54tc3bs5M1ig",
        "outputId": "eafa9937-358e-4e4f-8c09-f9c8cca86352"
      },
      "execution_count": null,
      "outputs": [
        {
          "output_type": "stream",
          "name": "stdout",
          "text": [
            "https://colab.research.google.com/drive/1ajhs_-6SuSLW0KzNz-J60WJUN9flGucc?authuser=3#scrollTo=-hkYC-j7M1f7\n",
            "(None, 'colab.research.google.com/drive/1ajhs_-6SuSLW0KzNz-J60WJUN9flGucc?authuser=3#scrollTo=-hkYC-j7M1f7')\n",
            "=======\n",
            "https://www.youtube.com/watch?v=AEE9ecgLgdQ\n",
            "('www.', 'youtube.com/watch?v=AEE9ecgLgdQ')\n",
            "=======\n",
            "https://www.youtube.com/watch?v=Tt9hwaM4d4A\n",
            "('www.', 'youtube.com/watch?v=Tt9hwaM4d4A')\n",
            "=======\n"
          ]
        }
      ]
    },
    {
      "cell_type": "code",
      "source": [
        "pattern = re.compile(pattern)\n",
        "suburls = pattern.sub(r'\\2', urls) # meaning to replace the urls position with the match's capturing group 2 \n",
        "suburls = suburls.split('\\n')\n",
        "suburls"
      ],
      "metadata": {
        "colab": {
          "base_uri": "https://localhost:8080/"
        },
        "id": "HQFKGD0wM1lo",
        "outputId": "5100a44d-fe76-44cf-9df1-e6f5d97c7064"
      },
      "execution_count": null,
      "outputs": [
        {
          "output_type": "execute_result",
          "data": {
            "text/plain": [
              "['',\n",
              " 'My colab is ',\n",
              " 'colab.research.google.com/drive/1ajhs_-6SuSLW0KzNz-J60WJUN9flGucc?authuser=3#scrollTo=-hkYC-j7M1f7',\n",
              " 'and the youtube tutorial link is',\n",
              " 'youtube.com/watch?v=AEE9ecgLgdQ',\n",
              " 'My recent favorite song is  ',\n",
              " 'youtube.com/watch?v=Tt9hwaM4d4A',\n",
              " '']"
            ]
          },
          "metadata": {},
          "execution_count": 117
        }
      ]
    },
    {
      "cell_type": "code",
      "source": [],
      "metadata": {
        "id": "mF-bCtzUVBLy"
      },
      "execution_count": null,
      "outputs": []
    },
    {
      "cell_type": "markdown",
      "source": [
        "## Compilation Flag \n",
        "- ASCII, A : Makes several escapes like \\w, \\b, \\s and \\d match only  on ASCII characters with the respective property.\n",
        "- DOTALL, S : Make . match any character, including newlines.\n",
        "- IGNORECASE, I : Do case-insensitive matches.\n",
        "- LOCALE, L : Do a locale-aware match.\n",
        "- MULTILINE, M : Multi-line matching, affecting ^ and $.\n",
        "- VERBOSE, X (for ‘extended’) : Enable verbose REs, which can be organized more cleanly and understandably."
      ],
      "metadata": {
        "id": "UY55UoWxVDy-"
      }
    },
    {
      "cell_type": "code",
      "source": [
        "my_string = \"Hello World\"\n",
        "pattern = re.compile(r'world', re.IGNORECASE) # No match without I flag\n",
        "matches = pattern.finditer(my_string)\n",
        "for match in matches:\n",
        "    print(match)"
      ],
      "metadata": {
        "colab": {
          "base_uri": "https://localhost:8080/"
        },
        "id": "qjJ1YYFlM1o_",
        "outputId": "e0b2e9ce-2e09-4726-8645-8a32f5a0487f"
      },
      "execution_count": null,
      "outputs": [
        {
          "output_type": "stream",
          "name": "stdout",
          "text": [
            "<re.Match object; span=(6, 11), match='World'>\n"
          ]
        }
      ]
    }
  ]
}