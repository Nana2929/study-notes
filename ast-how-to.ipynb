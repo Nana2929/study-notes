{
 "cells": [
  {
   "attachments": {},
   "cell_type": "markdown",
   "metadata": {},
   "source": [
    "# Python AST Module \n",
    "- Environment: python3.9 \n",
    "- Author: Ching Wen Yang\n",
    "- Created: 2023-06-16 20:40 \n"
   ]
  },
  {
   "cell_type": "code",
   "execution_count": 1,
   "metadata": {},
   "outputs": [
    {
     "data": {
      "text/plain": [
       "\"Module(body=[Assign(targets=[Name(id='n', ctx=Store())], value=Constant(value=10))], type_ignores=[])\""
      ]
     },
     "execution_count": 1,
     "metadata": {},
     "output_type": "execute_result"
    }
   ],
   "source": [
    "import ast \n",
    "expression = \"n=10\"\n",
    "node = ast.parse(expression, mode='exec')\n",
    "# 取得 string 描述\n",
    "ast.dump(node)"
   ]
  },
  {
   "attachments": {},
   "cell_type": "markdown",
   "metadata": {},
   "source": [
    "> As part of the internship, we'll be using Python AST to interpret custom logical expressions. To prepare, you may want to use Python AST to parser basic logical expressions and then explore how to customize your tokens.\n",
    "- References\n",
    "[gyermolenko/awesome-python-ast](https://github.com/gyermolenko/awesome-python-ast)\n",
    "\n",
    "## AST Document Structure \n",
    "- ast — Abstract Syntax Trees\n",
    "- Abstract Grammar\n",
    "- Node classes\n",
    "  - Literals\n",
    "  - Variables\n",
    "    - Expressions\n",
    "    - Subscripting\n",
    "    - Comprehensions\n",
    "  - Statements\n",
    "    - Imports\n",
    "  - Control flow\n",
    "  - Pattern matching\n",
    "  - Function and class definitions\n",
    "  - Async and await\n",
    "- ast Helpers\n",
    "- Compiler Flags\n",
    "- Command-Line Usage"
   ]
  },
  {
   "attachments": {},
   "cell_type": "markdown",
   "metadata": {},
   "source": [
    "## [Node Classes](https://docs.python.org/zh-tw/3/library/ast.html#node-classes)\n",
    "### 字面值 Literals \n",
    "- `ast.Constant`: 一個常量，數字、字串、None對象、frozenset or Tuple。\n",
    "- `ast.FormattedValue`: 一個格式化的值，由 f-string 字串格式化而來。比如f'{x}'。\n",
    "- `ast.JoinedStr`: 一個f-string，可以是 Constant 或 FormattedValue 多個組合而成。\n",
    "- `ast.List`, `ast.Tuple`: 一個列表或元組。 elts 保存內容，ctx 為 Load, Store。ctx 在列表或元組中分辨在左值或右值。 \n",
    "  - `(x, y) = fn(results)` 中，`(x,y)` 的 ctx 為 Store。\n",
    "- `ast.Set`: 一個集合。 elts 保存內容。\n",
    "- `ast.Dict`: 一個字典。 keys 保存鍵，values 保存值。 \n",
    "### 變數 Variables \n",
    "- `ast.Name(id, ctx)`：一個變數，id 為變數名，ctx 為 `ast.Load, ast.Store, ast.Del`。ctx 在變數中分辨在左值或右值。 \n",
    "- The above 3 ctx classes\n",
    "- `ast.Starred(value, ctx)`: A *var variable reference.\n",
    "\n",
    "### 表現式 Expressions\n",
    "- `ast.Expr(value)`: 如 function call 這樣的表現式被呼叫但是 return 未被接住的情況，這個 return value 會被存在這個 Expr 內。\n",
    "- `ast.UnaryOp(op, operand)`: 一個一元運算符，op 為運算符，operand 為運算元。eg. -1, not True\n",
    "- Unary operator tokens \n",
    "    - `ast.UAdd`: + \n",
    "    - `ast.USub`: - \n",
    "    - `ast.Not`: not keyword \n",
    "    - `ast.Invert`: ~\n",
    "- `ast.BinOp(left, op, right)`: 一個二元運算符，left 為左運算元，op 為運算符，right 為右運算元。eg. 1 + 2\n",
    "- Binary operator tokens \n",
    "    - `ast.Add`: + \n",
    "    - `ast.Sub`: - \n",
    "    - `ast.Mult`: * \n",
    "    - `ast.Div`: / \n",
    "    - `ast.FloorDiv`: // \n",
    "    - `ast.Mod`: % \n",
    "    - `ast.Pow`: ** \n",
    "    - `ast.LShift`: << \n",
    "    - `ast.RShift`: >> \n",
    "    - `ast.BitOr`: | \n",
    "    - `ast.BitXor`: ^ \n",
    "    - `ast.BitAnd`: & \n",
    "    - `ast.MatMult`: @ \n",
    "- `ast.BoolOp(op, values)`: 一個布林運算符，op 為運算符，values 為運算元。eg. True and False\n",
    "- Boolean operator tokens \n",
    "    - `ast.And`: and keyword \n",
    "    - `ast.Or`: or keyword\n",
    "\n",
    "```python\n",
    "code = \"\"\"\n",
    "def f(x):\n",
    "    return x + 1\n",
    "f(x) \n",
    "\n",
    "\"\"\"\n",
    "print(ast.dump(ast.parse(code, mode='exec'), indent=4))\n",
    ">>> Expr(...\n",
    "    value=Call(\n",
    "        func=Name(id='f', ctx=Load()),\n",
    "        args=[\n",
    "            Name(id='x', ctx=Load())],\n",
    "        keywords=[]))],...) \n",
    "```\n"
   ]
  },
  {
   "cell_type": "code",
   "execution_count": 24,
   "metadata": {},
   "outputs": [
    {
     "name": "stdout",
     "output_type": "stream",
     "text": [
      "Module(\n",
      "    body=[\n",
      "        FunctionDef(\n",
      "            name='f',\n",
      "            args=arguments(\n",
      "                posonlyargs=[],\n",
      "                args=[\n",
      "                    arg(arg='x')],\n",
      "                kwonlyargs=[],\n",
      "                kw_defaults=[],\n",
      "                defaults=[]),\n",
      "            body=[\n",
      "                Return(\n",
      "                    value=BinOp(\n",
      "                        left=Name(id='x', ctx=Load()),\n",
      "                        op=Add(),\n",
      "                        right=Constant(value=1)))],\n",
      "            decorator_list=[]),\n",
      "        Expr(\n",
      "            value=Call(\n",
      "                func=Name(id='f', ctx=Load()),\n",
      "                args=[\n",
      "                    Name(id='x', ctx=Load())],\n",
      "                keywords=[]))],\n",
      "    type_ignores=[])\n"
     ]
    }
   ],
   "source": [
    "# expression \n",
    "code = \"\"\"\n",
    "def f(x):\n",
    "    return x + 1\n",
    "f(x) \n",
    "\n",
    "\"\"\"\n",
    "print(ast.dump(ast.parse(code, mode='exec'), indent=4))"
   ]
  },
  {
   "cell_type": "code",
   "execution_count": 20,
   "metadata": {},
   "outputs": [
    {
     "name": "stdout",
     "output_type": "stream",
     "text": [
      "Expression(\n",
      "    body=Compare(\n",
      "        left=Call(\n",
      "            func=Name(id='sin', ctx=Load()),\n",
      "            args=[\n",
      "                Constant(value=8)],\n",
      "            keywords=[]),\n",
      "        ops=[\n",
      "            Is()],\n",
      "        comparators=[\n",
      "            Constant(value=0.989)]))\n",
      "Module(\n",
      "    body=[\n",
      "        Delete(\n",
      "            targets=[\n",
      "                Name(id='a', ctx=Del())])],\n",
      "    type_ignores=[])\n"
     ]
    }
   ],
   "source": [
    "from math import sin\n",
    "a = 8 \n",
    "joinedstr_ex = f\"sin({a}) is {sin(a):.3}\"\n",
    "print(ast.dump(ast.parse(joinedstr_ex, mode='eval'), indent=4))\n",
    "# del \n",
    "print(ast.dump(ast.parse(\"del a\", mode='exec'), indent=4))"
   ]
  },
  {
   "cell_type": "code",
   "execution_count": 22,
   "metadata": {},
   "outputs": [
    {
     "name": "stdout",
     "output_type": "stream",
     "text": [
      "1\n",
      "[2, 3]\n",
      "Module(\n",
      "    body=[\n",
      "        Assign(\n",
      "            targets=[\n",
      "                Tuple(\n",
      "                    elts=[\n",
      "                        Name(id='a', ctx=Store()),\n",
      "                        Starred(\n",
      "                            value=Name(id='b', ctx=Store()),\n",
      "                            ctx=Store())],\n",
      "                    ctx=Store())],\n",
      "            value=Call(\n",
      "                func=Name(id='iter', ctx=Load()),\n",
      "                args=[\n",
      "                    List(\n",
      "                        elts=[\n",
      "                            Constant(value=1),\n",
      "                            Constant(value=2),\n",
      "                            Constant(value=3)],\n",
      "                        ctx=Load())],\n",
      "                keywords=[]))],\n",
      "    type_ignores=[])\n"
     ]
    }
   ],
   "source": [
    "a, *b = iter([1,2,3])\n",
    "print(a) \n",
    "print(b)\n",
    "print(ast.dump(ast.parse(\"a, *b = iter([1,2,3])\", mode='exec'), indent=4))"
   ]
  },
  {
   "attachments": {},
   "cell_type": "markdown",
   "metadata": {},
   "source": [
    "## Parse a code string into an AST "
   ]
  },
  {
   "cell_type": "code",
   "execution_count": 11,
   "metadata": {},
   "outputs": [
    {
     "name": "stdout",
     "output_type": "stream",
     "text": [
      "Module(\n",
      "    body=[\n",
      "        FunctionDef(\n",
      "            name='add',\n",
      "            args=arguments(\n",
      "                posonlyargs=[],\n",
      "                args=[\n",
      "                    arg(arg='a'),\n",
      "                    arg(arg='b')],\n",
      "                kwonlyargs=[],\n",
      "                kw_defaults=[],\n",
      "                defaults=[]),\n",
      "            body=[\n",
      "                Return(\n",
      "                    value=BinOp(\n",
      "                        left=Name(id='a', ctx=Load()),\n",
      "                        op=Add(),\n",
      "                        right=Name(id='b', ctx=Load())))],\n",
      "            decorator_list=[]),\n",
      "        FunctionDef(\n",
      "            name='sub',\n",
      "            args=arguments(\n",
      "                posonlyargs=[],\n",
      "                args=[\n",
      "                    arg(arg='a'),\n",
      "                    arg(arg='b')],\n",
      "                kwonlyargs=[],\n",
      "                kw_defaults=[],\n",
      "                defaults=[]),\n",
      "            body=[\n",
      "                Return(\n",
      "                    value=BinOp(\n",
      "                        left=Name(id='a', ctx=Load()),\n",
      "                        op=Sub(),\n",
      "                        right=Name(id='b', ctx=Load())))],\n",
      "            decorator_list=[]),\n",
      "        Assign(\n",
      "            targets=[\n",
      "                Name(id='res', ctx=Store())],\n",
      "            value=Call(\n",
      "                func=Name(id='add', ctx=Load()),\n",
      "                args=[\n",
      "                    Constant(value=1),\n",
      "                    Constant(value=2)],\n",
      "                keywords=[])),\n",
      "        Expr(\n",
      "            value=Compare(\n",
      "                left=Call(\n",
      "                    func=Name(id='add', ctx=Load()),\n",
      "                    args=[\n",
      "                        Constant(value=1),\n",
      "                        Constant(value=2)],\n",
      "                    keywords=[]),\n",
      "                ops=[\n",
      "                    Eq()],\n",
      "                comparators=[\n",
      "                    Call(\n",
      "                        func=Name(id='sub', ctx=Load()),\n",
      "                        args=[\n",
      "                            Constant(value=3),\n",
      "                            Constant(value=2)],\n",
      "                        keywords=[])])),\n",
      "        Expr(\n",
      "            value=Call(\n",
      "                func=Name(id='print', ctx=Load()),\n",
      "                args=[\n",
      "                    Name(id='res', ctx=Load())],\n",
      "                keywords=[]))],\n",
      "    type_ignores=[])\n"
     ]
    }
   ],
   "source": [
    "code_string = \"\"\"\n",
    "\n",
    "def add(a, b):\n",
    "    return a + b\n",
    "\n",
    "def sub(a, b):\n",
    "    return a - b\n",
    "\n",
    "res = add(1, 2)\n",
    "add(1, 2) == sub(3, 2)\n",
    "print(res)\n",
    "\"\"\"\n",
    "\n",
    "tree = ast.parse(code_string)\n",
    "print(ast.dump(tree, indent=4))"
   ]
  },
  {
   "attachments": {},
   "cell_type": "markdown",
   "metadata": {},
   "source": [
    "### NodeVisitor \n",
    "`class ast.NodeVisitor`\n",
    "一个遍历抽象语法树并针对所找到的每个节点调用访问器函数的节点访问器基类。 该函数可能会返回一个由 visit() 方法所提供的值。\n",
    "这个类应当被子类化，并由子类来添加访问器方法。\n",
    "- `visit(node)`\n",
    "访问一个节点。 默认实现会调用名为 `self.visit_classname` 的方法其中 classname 为节点类的名称，或者如果该方法不存在则为 `generic_visit()`。\n",
    "\n",
    "- `generic_visit(node)`\n",
    "该访问器会在节点的所有子节点上调用 `visit()`。\n",
    "\n",
    "请注意所有包含自定义访问器方法的节点的子节点将不会被访问除非访问器调用了 `generic_visit()` 或是自行访问它们。\n",
    "\n",
    "如果你想在遍历期间应用对节点的修改则请不要使用 `NodeVisitor`。 对此目的可使用一个允许修改的特殊访问器 (`NodeTransformer`)。\n",
    "\n",
    "在 3.8 版本開始棄用: visit_Num(), visit_Str(), visit_Bytes(), visit_NameConstant() 和 visit_Ellipsis() 等方法现在已被弃用且在未来的 Python 版本中将不会再被调用。 \n",
    "请添加 visit_Constant() 方法来处理所有常量节点。"
   ]
  },
  {
   "cell_type": "code",
   "execution_count": 17,
   "metadata": {},
   "outputs": [
    {
     "name": "stdout",
     "output_type": "stream",
     "text": [
      "add\n",
      "sub\n",
      "('value', 'kind')\n",
      "1\n",
      "None\n",
      "('value', 'kind')\n",
      "2\n",
      "None\n",
      "('value', 'kind')\n",
      "1\n",
      "None\n",
      "('value', 'kind')\n",
      "2\n",
      "None\n",
      "('value', 'kind')\n",
      "3\n",
      "None\n",
      "('value', 'kind')\n",
      "2\n",
      "None\n"
     ]
    }
   ],
   "source": [
    "# How to navigate and manipulate nodes in the AST\n",
    "# takeaway: subclass ast.NodeVisitor and implement visit_<nodename> methods \n",
    "# 1. traverse \n",
    "from _ast import Eq\n",
    "from typing import Any\n",
    "\n",
    "\n",
    "class FnNameVisitor(ast.NodeVisitor):\n",
    "    def visit_FunctionDef(self, node):\n",
    "        print(node.name)\n",
    "        self.generic_visit(node) # designed to visit the children nodes of the current node \n",
    "        # ensure that all nodes from the given `node` are visited\n",
    "\n",
    "class ConstantVisitor(ast.NodeVisitor):\n",
    "    def visit_Constant(self, node):\n",
    "        print(node._fields)\n",
    "        print(node.value)\n",
    "        print(node.kind)\n",
    "        self.generic_visit(node)\n",
    "\n",
    "# prints the names of all functions in the code \n",
    "tree = ast.parse(code_string)\n",
    "FnNameVisitor().visit(tree)\n",
    "ConstantVisitor().visit(tree)\n",
    "\n",
    "\n",
    "# prints the equality operator"
   ]
  },
  {
   "attachments": {},
   "cell_type": "markdown",
   "metadata": {},
   "source": [
    "## Visualize an AST \n",
    "Reference: https://jckling.github.io/2021/07/14/Other/Python%20ast%20%E6%A8%A1%E5%9D%97%E4%BD%BF%E7%94%A8/"
   ]
  },
  {
   "cell_type": "code",
   "execution_count": null,
   "metadata": {},
   "outputs": [],
   "source": []
  },
  {
   "cell_type": "code",
   "execution_count": null,
   "metadata": {},
   "outputs": [],
   "source": []
  }
 ],
 "metadata": {
  "kernelspec": {
   "display_name": "Python 3",
   "language": "python",
   "name": "python3"
  },
  "language_info": {
   "codemirror_mode": {
    "name": "ipython",
    "version": 3
   },
   "file_extension": ".py",
   "mimetype": "text/x-python",
   "name": "python",
   "nbconvert_exporter": "python",
   "pygments_lexer": "ipython3",
   "version": "3.9.16"
  },
  "orig_nbformat": 4
 },
 "nbformat": 4,
 "nbformat_minor": 2
}
